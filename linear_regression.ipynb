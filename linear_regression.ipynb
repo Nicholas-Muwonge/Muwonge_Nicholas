{
 "cells": [
  {
   "cell_type": "code",
   "execution_count": 1,
   "id": "d607715f",
   "metadata": {},
   "outputs": [
    {
     "name": "stdout",
     "output_type": "stream",
     "text": [
      "scikit-learn is working!\n"
     ]
    }
   ],
   "source": [
    "from sklearn.linear_model import LinearRegression\n",
    "print(\"scikit-learn is working!\")\n"
   ]
  },
  {
   "cell_type": "code",
   "execution_count": null,
   "id": "8f2c6884",
   "metadata": {},
   "outputs": [],
   "source": [
    "import xgboost as xgb\n",
    "print(\"XGBoost version:\", xgb.__version__)\n"
   ]
  },
  {
   "cell_type": "code",
   "execution_count": 2,
   "id": "46ae66ad",
   "metadata": {},
   "outputs": [
    {
     "name": "stdout",
     "output_type": "stream",
     "text": [
      "           title  domestic_revenue  world_revenue   distributor  \\\n",
      "0   The Avengers           6026491     1274885664  Warner Bros.   \n",
      "1        Titanic         169411543     1132871091        Disney   \n",
      "2  Jurassic Park         107836098      583329845          Sony   \n",
      "3         Avatar          51433697     1225323391        Disney   \n",
      "4  The Lion King         142791649      604140729  Warner Bros.   \n",
      "\n",
      "   opening_revenue  opening_theaters     budget   MPAA     genres  \\\n",
      "0        163620146               253  174687337      R  Animation   \n",
      "1         85549990               122  103948486      G     Action   \n",
      "2         55681429              3826  122104991  NC-17     Horror   \n",
      "3        109775324              3868   46431596      G     Horror   \n",
      "4         59476800              2934  203513696      R     Comedy   \n",
      "\n",
      "   release_days  \n",
      "0            16  \n",
      "1           103  \n",
      "2            89  \n",
      "3            85  \n",
      "4           158  \n"
     ]
    }
   ],
   "source": [
    "import numpy as np \n",
    "import pandas as pd\n",
    "import matplotlib as plt\n",
    "\n",
    "df = pd.read_csv(\"boxoffice.csv\")\n",
    "print(df.head())\n"
   ]
  },
  {
   "cell_type": "code",
   "execution_count": null,
   "id": "34e0db57",
   "metadata": {},
   "outputs": [
    {
     "data": {
      "application/vnd.microsoft.datawrangler.viewer.v0+json": {
       "columns": [
        {
         "name": "index",
         "rawType": "object",
         "type": "string"
        },
        {
         "name": "0",
         "rawType": "float64",
         "type": "float"
        }
       ],
       "ref": "5b55b344-0f4d-433b-90c6-00fe52281c5e",
       "rows": [
        [
         "title",
         "0.0"
        ],
        [
         "domestic_revenue",
         "0.0"
        ],
        [
         "world_revenue",
         "0.0"
        ],
        [
         "distributor",
         "0.0"
        ],
        [
         "opening_revenue",
         "0.0"
        ],
        [
         "opening_theaters",
         "0.0"
        ],
        [
         "budget",
         "0.0"
        ],
        [
         "MPAA",
         "0.0"
        ],
        [
         "genres",
         "0.0"
        ],
        [
         "release_days",
         "0.0"
        ]
       ],
       "shape": {
        "columns": 1,
        "rows": 10
       }
      },
      "text/plain": [
       "title               0.0\n",
       "domestic_revenue    0.0\n",
       "world_revenue       0.0\n",
       "distributor         0.0\n",
       "opening_revenue     0.0\n",
       "opening_theaters    0.0\n",
       "budget              0.0\n",
       "MPAA                0.0\n",
       "genres              0.0\n",
       "release_days        0.0\n",
       "dtype: float64"
      ]
     },
     "execution_count": 3,
     "metadata": {},
     "output_type": "execute_result"
    }
   ],
   "source": [
    "df.isnull().sum()*100 / df.shape[0]\n",
    "df.describe().T"
   ]
  },
  {
   "cell_type": "code",
   "execution_count": 5,
   "id": "3953e8d0",
   "metadata": {},
   "outputs": [
    {
     "data": {
      "application/vnd.microsoft.datawrangler.viewer.v0+json": {
       "columns": [
        {
         "name": "index",
         "rawType": "int64",
         "type": "integer"
        },
        {
         "name": "title",
         "rawType": "object",
         "type": "string"
        },
        {
         "name": "domestic_revenue",
         "rawType": "int64",
         "type": "integer"
        },
        {
         "name": "world_revenue",
         "rawType": "int64",
         "type": "integer"
        },
        {
         "name": "distributor",
         "rawType": "object",
         "type": "string"
        },
        {
         "name": "opening_revenue",
         "rawType": "int64",
         "type": "integer"
        },
        {
         "name": "opening_theaters",
         "rawType": "int64",
         "type": "integer"
        },
        {
         "name": "budget",
         "rawType": "int64",
         "type": "integer"
        },
        {
         "name": "MPAA",
         "rawType": "object",
         "type": "string"
        },
        {
         "name": "genres",
         "rawType": "object",
         "type": "string"
        },
        {
         "name": "release_days",
         "rawType": "int64",
         "type": "integer"
        }
       ],
       "ref": "84150691-5025-4a46-98db-887af95dce17",
       "rows": [
        [
         "0",
         "The Avengers",
         "6026491",
         "1274885664",
         "Warner Bros.",
         "163620146",
         "253",
         "174687337",
         "R",
         "Animation",
         "16"
        ],
        [
         "1",
         "Titanic",
         "169411543",
         "1132871091",
         "Disney",
         "85549990",
         "122",
         "103948486",
         "G",
         "Action",
         "103"
        ],
        [
         "2",
         "Jurassic Park",
         "107836098",
         "583329845",
         "Sony",
         "55681429",
         "3826",
         "122104991",
         "NC-17",
         "Horror",
         "89"
        ],
        [
         "3",
         "Avatar",
         "51433697",
         "1225323391",
         "Disney",
         "109775324",
         "3868",
         "46431596",
         "G",
         "Horror",
         "85"
        ],
        [
         "4",
         "The Lion King",
         "142791649",
         "604140729",
         "Warner Bros.",
         "59476800",
         "2934",
         "203513696",
         "R",
         "Comedy",
         "158"
        ],
        [
         "5",
         "Star Wars",
         "283757629",
         "1334675706",
         "Universal",
         "17256584",
         "1216",
         "39257068",
         "R",
         "Comedy",
         "154"
        ],
        [
         "6",
         "Frozen",
         "37740374",
         "574288068",
         "Sony",
         "173129561",
         "4472",
         "81033758",
         "NC-17",
         "Action",
         "47"
        ],
        [
         "7",
         "Inception",
         "185260781",
         "220079595",
         "Paramount",
         "102102678",
         "3548",
         "299859703",
         "PG-13",
         "Drama",
         "44"
        ],
        [
         "8",
         "The Dark Knight",
         "237676543",
         "966307844",
         "Warner Bros.",
         "60993059",
         "1813",
         "185463573",
         "R",
         "Action",
         "9"
        ],
        [
         "9",
         "Harry Potter",
         "3891150",
         "483144971",
         "Universal",
         "16494184",
         "1454",
         "20168236",
         "PG",
         "Horror",
         "152"
        ],
        [
         "10",
         "Toy Story",
         "181818250",
         "126428645",
         "Paramount",
         "177058452",
         "1148",
         "12067742",
         "PG-13",
         "Horror",
         "67"
        ],
        [
         "11",
         "Finding Nemo",
         "45246307",
         "373674324",
         "Warner Bros.",
         "112577289",
         "201",
         "44196487",
         "PG",
         "Comedy",
         "115"
        ],
        [
         "12",
         "Black Panther",
         "61159632",
         "1383183131",
         "Sony",
         "110838338",
         "1191",
         "188730760",
         "R",
         "Action",
         "2"
        ],
        [
         "13",
         "The Godfather",
         "115987140",
         "929201322",
         "Warner Bros.",
         "36885546",
         "2469",
         "73102004",
         "NC-17",
         "Animation",
         "41"
        ],
        [
         "14",
         "Spider-Man",
         "80562416",
         "156228377",
         "Warner Bros.",
         "32406809",
         "2815",
         "24075208",
         "PG",
         "Horror",
         "9"
        ],
        [
         "15",
         "Shrek",
         "171705686",
         "1021285835",
         "Paramount",
         "15908691",
         "1249",
         "79890843",
         "NC-17",
         "Comedy",
         "24"
        ],
        [
         "16",
         "Iron Man",
         "62905531",
         "401062468",
         "Warner Bros.",
         "103687576",
         "580",
         "115032251",
         "G",
         "Drama",
         "6"
        ],
        [
         "17",
         "Captain America",
         "217564253",
         "1313847851",
         "Sony",
         "25719579",
         "1737",
         "267051573",
         "PG",
         "Animation",
         "123"
        ],
        [
         "18",
         "Batman Begins",
         "213247309",
         "695589069",
         "Warner Bros.",
         "49229333",
         "3114",
         "213676649",
         "PG-13",
         "Drama",
         "12"
        ],
        [
         "19",
         "Wonder Woman",
         "151692800",
         "352873960",
         "Warner Bros.",
         "31683035",
         "2076",
         "148420424",
         "PG-13",
         "Drama",
         "116"
        ],
        [
         "20",
         "Guardians of the Galaxy",
         "52036045",
         "917589426",
         "Universal",
         "53587364",
         "2241",
         "74222036",
         "NC-17",
         "Action",
         "28"
        ],
        [
         "21",
         "Coco",
         "246128616",
         "1042848073",
         "Paramount",
         "99822759",
         "617",
         "264410733",
         "PG",
         "Animation",
         "65"
        ],
        [
         "22",
         "Pirates of the Caribbean",
         "228588741",
         "15189422",
         "Universal",
         "69811504",
         "3461",
         "165854907",
         "PG-13",
         "Horror",
         "163"
        ],
        [
         "23",
         "X-Men",
         "266922336",
         "214658823",
         "Universal",
         "110157431",
         "3777",
         "273494687",
         "PG",
         "Action",
         "30"
        ],
        [
         "24",
         "The Matrix",
         "126713868",
         "519251418",
         "Sony",
         "97093876",
         "1669",
         "44406668",
         "PG",
         "Drama",
         "111"
        ],
        [
         "25",
         "Forrest Gump",
         "226853105",
         "236080488",
         "Universal",
         "92373412",
         "2197",
         "265128318",
         "G",
         "Thriller",
         "70"
        ],
        [
         "26",
         "Jaws",
         "171980289",
         "1497543824",
         "Disney",
         "103166536",
         "2993",
         "276245304",
         "PG-13",
         "Thriller",
         "9"
        ],
        [
         "27",
         "Interstellar",
         "160556066",
         "117959356",
         "Sony",
         "100457010",
         "103",
         "202605970",
         "PG-13",
         "Drama",
         "19"
        ],
        [
         "28",
         "Deadpool",
         "66248656",
         "1314234101",
         "Disney",
         "61857117",
         "3813",
         "145327376",
         "NC-17",
         "Comedy",
         "37"
        ],
        [
         "29",
         "Mad Max",
         "53258421",
         "1437542279",
         "Paramount",
         "15216155",
         "3548",
         "132251192",
         "NC-17",
         "Action",
         "56"
        ],
        [
         "30",
         "The Hunger Games",
         "106294261",
         "381273461",
         "Warner Bros.",
         "60797656",
         "1660",
         "138155988",
         "PG-13",
         "Comedy",
         "85"
        ],
        [
         "31",
         "The Avengers",
         "156847182",
         "1489393676",
         "Sony",
         "35630719",
         "2515",
         "90244346",
         "R",
         "Drama",
         "129"
        ],
        [
         "32",
         "Titanic",
         "229340958",
         "996654395",
         "Warner Bros.",
         "70077524",
         "526",
         "111453078",
         "G",
         "Comedy",
         "35"
        ],
        [
         "33",
         "Jurassic Park",
         "213559876",
         "1324240147",
         "Disney",
         "197880311",
         "2723",
         "116939371",
         "G",
         "Animation",
         "159"
        ],
        [
         "34",
         "Avatar",
         "10830961",
         "683192858",
         "Paramount",
         "141811354",
         "3372",
         "97589524",
         "G",
         "Thriller",
         "8"
        ],
        [
         "35",
         "The Lion King",
         "37534384",
         "504914851",
         "Paramount",
         "128222859",
         "3425",
         "44894845",
         "PG-13",
         "Comedy",
         "153"
        ],
        [
         "36",
         "Star Wars",
         "130295872",
         "894431169",
         "Disney",
         "37237774",
         "570",
         "243653009",
         "NC-17",
         "Thriller",
         "29"
        ],
        [
         "37",
         "Frozen",
         "39992389",
         "1236662606",
         "Universal",
         "10189850",
         "2714",
         "292176987",
         "NC-17",
         "Drama",
         "18"
        ],
        [
         "38",
         "Inception",
         "128361125",
         "1259441541",
         "Warner Bros.",
         "90516054",
         "3400",
         "214457567",
         "PG-13",
         "Thriller",
         "168"
        ],
        [
         "39",
         "The Dark Knight",
         "228299532",
         "376724777",
         "Paramount",
         "15174715",
         "3141",
         "18292014",
         "PG-13",
         "Action",
         "37"
        ],
        [
         "40",
         "Harry Potter",
         "84541778",
         "899227585",
         "Paramount",
         "51969416",
         "1077",
         "226602993",
         "G",
         "Drama",
         "62"
        ],
        [
         "41",
         "Toy Story",
         "266616791",
         "442214421",
         "Disney",
         "75279875",
         "3323",
         "216539929",
         "NC-17",
         "Animation",
         "127"
        ],
        [
         "42",
         "Finding Nemo",
         "218416715",
         "1208952339",
         "Disney",
         "183619810",
         "960",
         "23172832",
         "R",
         "Action",
         "138"
        ],
        [
         "43",
         "Black Panther",
         "140870390",
         "1318004659",
         "Sony",
         "44797041",
         "3269",
         "245649413",
         "NC-17",
         "Animation",
         "6"
        ],
        [
         "44",
         "The Godfather",
         "274809616",
         "514720589",
         "Warner Bros.",
         "184365317",
         "2596",
         "96415935",
         "NC-17",
         "Thriller",
         "138"
        ],
        [
         "45",
         "Spider-Man",
         "287248999",
         "210930756",
         "Universal",
         "25096363",
         "908",
         "154687514",
         "PG-13",
         "Comedy",
         "101"
        ],
        [
         "46",
         "Shrek",
         "11993832",
         "1224051111",
         "Disney",
         "143858765",
         "2120",
         "140099497",
         "NC-17",
         "Action",
         "15"
        ],
        [
         "47",
         "Iron Man",
         "196266396",
         "1116640190",
         "Universal",
         "149615772",
         "518",
         "277144671",
         "PG",
         "Drama",
         "53"
        ],
        [
         "48",
         "Captain America",
         "148899368",
         "171330950",
         "Paramount",
         "15927170",
         "2582",
         "89257168",
         "PG-13",
         "Thriller",
         "3"
        ],
        [
         "49",
         "Batman Begins",
         "60444244",
         "579396381",
         "Universal",
         "32136485",
         "1053",
         "42968439",
         "NC-17",
         "Horror",
         "49"
        ]
       ],
       "shape": {
        "columns": 10,
        "rows": 100
       }
      },
      "text/html": [
       "<div>\n",
       "<style scoped>\n",
       "    .dataframe tbody tr th:only-of-type {\n",
       "        vertical-align: middle;\n",
       "    }\n",
       "\n",
       "    .dataframe tbody tr th {\n",
       "        vertical-align: top;\n",
       "    }\n",
       "\n",
       "    .dataframe thead th {\n",
       "        text-align: right;\n",
       "    }\n",
       "</style>\n",
       "<table border=\"1\" class=\"dataframe\">\n",
       "  <thead>\n",
       "    <tr style=\"text-align: right;\">\n",
       "      <th></th>\n",
       "      <th>title</th>\n",
       "      <th>domestic_revenue</th>\n",
       "      <th>world_revenue</th>\n",
       "      <th>distributor</th>\n",
       "      <th>opening_revenue</th>\n",
       "      <th>opening_theaters</th>\n",
       "      <th>budget</th>\n",
       "      <th>MPAA</th>\n",
       "      <th>genres</th>\n",
       "      <th>release_days</th>\n",
       "    </tr>\n",
       "  </thead>\n",
       "  <tbody>\n",
       "    <tr>\n",
       "      <th>0</th>\n",
       "      <td>The Avengers</td>\n",
       "      <td>6026491</td>\n",
       "      <td>1274885664</td>\n",
       "      <td>Warner Bros.</td>\n",
       "      <td>163620146</td>\n",
       "      <td>253</td>\n",
       "      <td>174687337</td>\n",
       "      <td>R</td>\n",
       "      <td>Animation</td>\n",
       "      <td>16</td>\n",
       "    </tr>\n",
       "    <tr>\n",
       "      <th>1</th>\n",
       "      <td>Titanic</td>\n",
       "      <td>169411543</td>\n",
       "      <td>1132871091</td>\n",
       "      <td>Disney</td>\n",
       "      <td>85549990</td>\n",
       "      <td>122</td>\n",
       "      <td>103948486</td>\n",
       "      <td>G</td>\n",
       "      <td>Action</td>\n",
       "      <td>103</td>\n",
       "    </tr>\n",
       "    <tr>\n",
       "      <th>2</th>\n",
       "      <td>Jurassic Park</td>\n",
       "      <td>107836098</td>\n",
       "      <td>583329845</td>\n",
       "      <td>Sony</td>\n",
       "      <td>55681429</td>\n",
       "      <td>3826</td>\n",
       "      <td>122104991</td>\n",
       "      <td>NC-17</td>\n",
       "      <td>Horror</td>\n",
       "      <td>89</td>\n",
       "    </tr>\n",
       "    <tr>\n",
       "      <th>3</th>\n",
       "      <td>Avatar</td>\n",
       "      <td>51433697</td>\n",
       "      <td>1225323391</td>\n",
       "      <td>Disney</td>\n",
       "      <td>109775324</td>\n",
       "      <td>3868</td>\n",
       "      <td>46431596</td>\n",
       "      <td>G</td>\n",
       "      <td>Horror</td>\n",
       "      <td>85</td>\n",
       "    </tr>\n",
       "    <tr>\n",
       "      <th>4</th>\n",
       "      <td>The Lion King</td>\n",
       "      <td>142791649</td>\n",
       "      <td>604140729</td>\n",
       "      <td>Warner Bros.</td>\n",
       "      <td>59476800</td>\n",
       "      <td>2934</td>\n",
       "      <td>203513696</td>\n",
       "      <td>R</td>\n",
       "      <td>Comedy</td>\n",
       "      <td>158</td>\n",
       "    </tr>\n",
       "    <tr>\n",
       "      <th>...</th>\n",
       "      <td>...</td>\n",
       "      <td>...</td>\n",
       "      <td>...</td>\n",
       "      <td>...</td>\n",
       "      <td>...</td>\n",
       "      <td>...</td>\n",
       "      <td>...</td>\n",
       "      <td>...</td>\n",
       "      <td>...</td>\n",
       "      <td>...</td>\n",
       "    </tr>\n",
       "    <tr>\n",
       "      <th>95</th>\n",
       "      <td>Jurassic Park</td>\n",
       "      <td>151538541</td>\n",
       "      <td>976228497</td>\n",
       "      <td>Warner Bros.</td>\n",
       "      <td>24780709</td>\n",
       "      <td>2774</td>\n",
       "      <td>53683854</td>\n",
       "      <td>R</td>\n",
       "      <td>Drama</td>\n",
       "      <td>100</td>\n",
       "    </tr>\n",
       "    <tr>\n",
       "      <th>96</th>\n",
       "      <td>Avatar</td>\n",
       "      <td>223828477</td>\n",
       "      <td>1102175632</td>\n",
       "      <td>Sony</td>\n",
       "      <td>187306183</td>\n",
       "      <td>4166</td>\n",
       "      <td>294056742</td>\n",
       "      <td>NC-17</td>\n",
       "      <td>Horror</td>\n",
       "      <td>48</td>\n",
       "    </tr>\n",
       "    <tr>\n",
       "      <th>97</th>\n",
       "      <td>The Lion King</td>\n",
       "      <td>214776212</td>\n",
       "      <td>663212355</td>\n",
       "      <td>Paramount</td>\n",
       "      <td>70836457</td>\n",
       "      <td>2212</td>\n",
       "      <td>134219315</td>\n",
       "      <td>R</td>\n",
       "      <td>Thriller</td>\n",
       "      <td>88</td>\n",
       "    </tr>\n",
       "    <tr>\n",
       "      <th>98</th>\n",
       "      <td>Star Wars</td>\n",
       "      <td>129275123</td>\n",
       "      <td>992692065</td>\n",
       "      <td>Disney</td>\n",
       "      <td>52418156</td>\n",
       "      <td>3531</td>\n",
       "      <td>205898288</td>\n",
       "      <td>PG-13</td>\n",
       "      <td>Comedy</td>\n",
       "      <td>138</td>\n",
       "    </tr>\n",
       "    <tr>\n",
       "      <th>99</th>\n",
       "      <td>Frozen</td>\n",
       "      <td>155560209</td>\n",
       "      <td>202335491</td>\n",
       "      <td>Warner Bros.</td>\n",
       "      <td>65064975</td>\n",
       "      <td>1557</td>\n",
       "      <td>228583947</td>\n",
       "      <td>R</td>\n",
       "      <td>Animation</td>\n",
       "      <td>169</td>\n",
       "    </tr>\n",
       "  </tbody>\n",
       "</table>\n",
       "<p>100 rows × 10 columns</p>\n",
       "</div>"
      ],
      "text/plain": [
       "            title  domestic_revenue  world_revenue   distributor  \\\n",
       "0    The Avengers           6026491     1274885664  Warner Bros.   \n",
       "1         Titanic         169411543     1132871091        Disney   \n",
       "2   Jurassic Park         107836098      583329845          Sony   \n",
       "3          Avatar          51433697     1225323391        Disney   \n",
       "4   The Lion King         142791649      604140729  Warner Bros.   \n",
       "..            ...               ...            ...           ...   \n",
       "95  Jurassic Park         151538541      976228497  Warner Bros.   \n",
       "96         Avatar         223828477     1102175632          Sony   \n",
       "97  The Lion King         214776212      663212355     Paramount   \n",
       "98      Star Wars         129275123      992692065        Disney   \n",
       "99         Frozen         155560209      202335491  Warner Bros.   \n",
       "\n",
       "    opening_revenue  opening_theaters     budget   MPAA     genres  \\\n",
       "0         163620146               253  174687337      R  Animation   \n",
       "1          85549990               122  103948486      G     Action   \n",
       "2          55681429              3826  122104991  NC-17     Horror   \n",
       "3         109775324              3868   46431596      G     Horror   \n",
       "4          59476800              2934  203513696      R     Comedy   \n",
       "..              ...               ...        ...    ...        ...   \n",
       "95         24780709              2774   53683854      R      Drama   \n",
       "96        187306183              4166  294056742  NC-17     Horror   \n",
       "97         70836457              2212  134219315      R   Thriller   \n",
       "98         52418156              3531  205898288  PG-13     Comedy   \n",
       "99         65064975              1557  228583947      R  Animation   \n",
       "\n",
       "    release_days  \n",
       "0             16  \n",
       "1            103  \n",
       "2             89  \n",
       "3             85  \n",
       "4            158  \n",
       "..           ...  \n",
       "95           100  \n",
       "96            48  \n",
       "97            88  \n",
       "98           138  \n",
       "99           169  \n",
       "\n",
       "[100 rows x 10 columns]"
      ]
     },
     "execution_count": 5,
     "metadata": {},
     "output_type": "execute_result"
    }
   ],
   "source": [
    "df.head(100)"
   ]
  },
  {
   "cell_type": "code",
   "execution_count": 7,
   "id": "a9c02e1b",
   "metadata": {},
   "outputs": [
    {
     "ename": "AttributeError",
     "evalue": "module 'matplotlib' has no attribute 'figure'",
     "output_type": "error",
     "traceback": [
      "\u001b[31m---------------------------------------------------------------------------\u001b[39m",
      "\u001b[31mAttributeError\u001b[39m                            Traceback (most recent call last)",
      "\u001b[36mCell\u001b[39m\u001b[36m \u001b[39m\u001b[32mIn[7]\u001b[39m\u001b[32m, line 2\u001b[39m\n\u001b[32m      1\u001b[39m \u001b[38;5;28;01mimport\u001b[39;00m\u001b[38;5;250m \u001b[39m\u001b[34;01mmatplotlib\u001b[39;00m\n\u001b[32m----> \u001b[39m\u001b[32m2\u001b[39m \u001b[43mplt\u001b[49m\u001b[43m.\u001b[49m\u001b[43mfigure\u001b[49m(figsize=(\u001b[32m10\u001b[39m,\u001b[32m5\u001b[39m))\n\u001b[32m      3\u001b[39m sb.countplot(df[\u001b[33m'\u001b[39m\u001b[33mMPAA\u001b[39m\u001b[33m'\u001b[39m])\n\u001b[32m      4\u001b[39m plt.show()\n",
      "\u001b[36mFile \u001b[39m\u001b[32m~/Desktop/Drive/Python/.venv/lib/python3.13/site-packages/matplotlib/_api/__init__.py:218\u001b[39m, in \u001b[36mcaching_module_getattr.<locals>.__getattr__\u001b[39m\u001b[34m(name)\u001b[39m\n\u001b[32m    216\u001b[39m \u001b[38;5;28;01mif\u001b[39;00m name \u001b[38;5;129;01min\u001b[39;00m props:\n\u001b[32m    217\u001b[39m     \u001b[38;5;28;01mreturn\u001b[39;00m props[name].\u001b[34m__get__\u001b[39m(instance)\n\u001b[32m--> \u001b[39m\u001b[32m218\u001b[39m \u001b[38;5;28;01mraise\u001b[39;00m \u001b[38;5;167;01mAttributeError\u001b[39;00m(\n\u001b[32m    219\u001b[39m     \u001b[33mf\u001b[39m\u001b[33m\"\u001b[39m\u001b[33mmodule \u001b[39m\u001b[38;5;132;01m{\u001b[39;00m\u001b[38;5;28mcls\u001b[39m.\u001b[34m__module__\u001b[39m\u001b[38;5;132;01m!r}\u001b[39;00m\u001b[33m has no attribute \u001b[39m\u001b[38;5;132;01m{\u001b[39;00mname\u001b[38;5;132;01m!r}\u001b[39;00m\u001b[33m\"\u001b[39m)\n",
      "\u001b[31mAttributeError\u001b[39m: module 'matplotlib' has no attribute 'figure'"
     ]
    }
   ],
   "source": [
    "import matplotlib\n",
    "plt.figure(figsize=(10,5))\n",
    "sb.countplot(df['MPAA'])\n",
    "plt.show()"
   ]
  }
 ],
 "metadata": {
  "kernelspec": {
   "display_name": ".venv",
   "language": "python",
   "name": "python3"
  },
  "language_info": {
   "codemirror_mode": {
    "name": "ipython",
    "version": 3
   },
   "file_extension": ".py",
   "mimetype": "text/x-python",
   "name": "python",
   "nbconvert_exporter": "python",
   "pygments_lexer": "ipython3",
   "version": "3.13.3"
  }
 },
 "nbformat": 4,
 "nbformat_minor": 5
}
