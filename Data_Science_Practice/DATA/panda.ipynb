{
 "cells": [
  {
   "cell_type": "code",
   "execution_count": null,
   "id": "65cdfd2b",
   "metadata": {},
   "outputs": [],
   "source": [
    "import numpy as np\n",
    "import pandas as pd \n",
    "import matplotlib as plt \n",
    "\n",
    "df = pd.read_csv(\"Mine.csv\")\n",
    "print(df.head)"
   ]
  },
  {
   "cell_type": "code",
   "execution_count": null,
   "id": "b15894db",
   "metadata": {},
   "outputs": [],
   "source": [
    "import numpy as np \n",
    "import pandas as pd\n",
    "import matplotlib as plt\n",
    "\n",
    "df = pd.read_csv(\"Sales.csv\")\n",
    "print(df.head())"
   ]
  },
  {
   "cell_type": "code",
   "execution_count": null,
   "id": "4f6abd56",
   "metadata": {},
   "outputs": [],
   "source": [
    "import pandas as pd\n",
    "\n",
    "df = pd.read_csv('Mine.csv')\n",
    "new_df = df.dropna()\n",
    "print(new_df.to_string())"
   ]
  },
  {
   "cell_type": "code",
   "execution_count": null,
   "id": "8277a4ec",
   "metadata": {},
   "outputs": [],
   "source": [
    "import pandas as pd\n",
    "\n",
    "df = pd.read_csv('Sales.csv')\n",
    "new_df = df.dropna()\n",
    "print(new_df.to_string())"
   ]
  },
  {
   "cell_type": "code",
   "execution_count": null,
   "id": "cc2733b9",
   "metadata": {},
   "outputs": [],
   "source": [
    "import pandas as pd\n",
    "df = pd.read_csv('Mine.csv')\n",
    "new_df = df.drop_duplicates()\n",
    "print(new_df.to_string())\n",
    "import pandas as pd\n",
    "df = pd.read_csv('Sales.csv')\n",
    "new_df = df.drop_duplicates()\n",
    "print(new_df.to_string())"
   ]
  },
  {
   "cell_type": "code",
   "execution_count": null,
   "id": "aed5f421",
   "metadata": {},
   "outputs": [],
   "source": [
    "import pandas as pd\n",
    "df = pd.read_csv('Mine.csv')\n",
    "df['Date'] = df['Date'].fillna(method='ffill')\n",
    "print(df.to_string())"
   ]
  },
  {
   "cell_type": "code",
   "execution_count": null,
   "id": "704ef614",
   "metadata": {},
   "outputs": [],
   "source": [
    "#correcting date formats \n",
    "import pandas as pd\n",
    "df = pd.read_csv('Sales.csv')\n",
    "df['Order Date'] = pd.to_datetime(df['Order Date'], errors='coerce')\n",
    "df['Order Date'] = df['Order Date'].fillna(method='ffill')\n",
    "print(df.to_string())\n",
    "import pandas as pd\n",
    "df = pd.read_csv('Mine.csv')\n",
    "df['Date'] = pd.to_datetime(df['Date'], errors='coerce')\n",
    "df['Date'] = df['Date'].fillna(method='ffill')\n",
    "print(df.to_string())\n"
   ]
  },
  {
   "cell_type": "code",
   "execution_count": null,
   "id": "eec45818",
   "metadata": {},
   "outputs": [],
   "source": [
    "#filling missing values of pulse values\n",
    "import pandas as pd\n",
    "df = pd.read_csv('Mine.csv')\n",
    "df['Pulse'] = df['Pulse'].fillna(df['Pulse'].mean())\n",
    "print(df.to_string())"
   ]
  },
  {
   "cell_type": "code",
   "execution_count": 14,
   "id": "e1938e59",
   "metadata": {},
   "outputs": [
    {
     "name": "stdout",
     "output_type": "stream",
     "text": [
      "    Duration         Date  Pulse    Maxpulse  Calories\n",
      "0         60  2023/10/01'  110.0  130.000000     409.1\n",
      "1         60  2023/10/02'  117.0  145.000000     479.0\n",
      "2         60  2023/10/03'  103.0  135.000000     340.3\n",
      "3         45  2023/10/04'  109.0  175.000000     282.4\n",
      "4         45  2023/10/05'  117.0  150.000000     405.1\n",
      "5         60  2023/10/06'  103.0  125.000000     300.0\n",
      "6         60  2023/10/07'  110.0  135.000000     374.0\n",
      "7        400  2023/10/08'  114.0  133.000000       NaN\n",
      "8         60  2023/10/09'  112.0  126.000000     193.8\n",
      "9         30  2023/10/10'  102.0  147.000000     234.8\n",
      "10        60  2023/10/11'  100.0  129.000000     375.3\n",
      "11        60  2023/10/12'  109.0  131.000000     345.6\n",
      "12        60  2023/10/13'  103.0  136.000000     239.2\n",
      "13        60  2023/10/15'  120.0  123.241379     240.8\n",
      "14        60  2023/10/15'  120.0  100.000000     240.8\n",
      "15        60  2023/10/16'    NaN  101.000000     243.8\n",
      "16        60  2023/10/17'  127.0  102.000000     380.2\n",
      "17        45     20231018  142.0  103.000000     241.4\n",
      "18        60  2023/10/19'  151.0  104.000000       NaN\n",
      "19        60  2023/10/20'  162.0  105.000000     300.9\n",
      "20        60  2023/10/21'  100.0  106.000000     280.0\n",
      "21        60  2023/10/22'  103.0  107.000000       NaN\n",
      "22        60          NaN  130.0  108.000000     230.8\n",
      "23        60  2023/10/24'  134.0  123.241379     239.7\n",
      "24        60  2023/10/25'  132.0  110.000000     236.9\n",
      "25        60  2023/10/26'  135.0  118.000000     278.8\n",
      "26        60  2023/10/27'  137.0  119.000000     212.9\n",
      "27        60  2023/10/28'  138.0  121.000000     345.9\n",
      "28        60  2023/10/29'  139.0  122.000000     345.2\n",
      "29        60          NaN   92.0  125.000000     380.5\n",
      "30        60  2023/10/31'   94.0  126.000000       NaN\n"
     ]
    }
   ],
   "source": [
    "#filling missing values of max pulse values in mine.csv permanently\n",
    "import pandas as pd\n",
    "df = pd.read_csv('Mine.csv')\n",
    "df['Maxpulse'] = df['Maxpulse'].fillna(df['Maxpulse'].mean())\n",
    "print(df.to_string())"
   ]
  }
 ],
 "metadata": {
  "kernelspec": {
   "display_name": ".venv",
   "language": "python",
   "name": "python3"
  },
  "language_info": {
   "codemirror_mode": {
    "name": "ipython",
    "version": 3
   },
   "file_extension": ".py",
   "mimetype": "text/x-python",
   "name": "python",
   "nbconvert_exporter": "python",
   "pygments_lexer": "ipython3",
   "version": "3.13.2"
  }
 },
 "nbformat": 4,
 "nbformat_minor": 5
}
