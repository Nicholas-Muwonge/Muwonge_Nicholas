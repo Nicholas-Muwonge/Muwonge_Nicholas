{
 "cells": [
  {
   "cell_type": "code",
   "execution_count": null,
   "id": "3fb24e49",
   "metadata": {},
   "outputs": [],
   "source": [
    "import pandas as pd\n",
    "import matplotlib.pyplot as plt\n",
    "df = pd.read_csv('Mine.csv')\n",
    "df.plot(kind= 'hist', x='Duration', y='Maxpulse')\n",
    "plt.show()"
   ]
  },
  {
   "cell_type": "code",
   "execution_count": null,
   "id": "d7fff43b",
   "metadata": {},
   "outputs": [],
   "source": [
    "import seaborn as sns\n",
    "\n",
    "\n",
    "plt.Figure(figsize=(10, 5))\n",
    "plt.subplot(1, 2, 1)\n",
    "sns.histplot(df['Maxpulse'], kde=True, color='blue')\n",
    "plt.title('Maxpulse Distribution')\n",
    "plt.subplot(1, 2, 2)\n",
    "sns.histplot(df['Calories'], kde=True, color='red')\n",
    "plt.title('Calories Distribution')\n",
    "plt.tight_layout()\n",
    "plt.show()"
   ]
  }
 ],
 "metadata": {
  "kernelspec": {
   "display_name": ".venv",
   "language": "python",
   "name": "python3"
  },
  "language_info": {
   "codemirror_mode": {
    "name": "ipython",
    "version": 3
   },
   "file_extension": ".py",
   "mimetype": "text/x-python",
   "name": "python",
   "nbconvert_exporter": "python",
   "pygments_lexer": "ipython3",
   "version": "3.13.2"
  }
 },
 "nbformat": 4,
 "nbformat_minor": 5
}
