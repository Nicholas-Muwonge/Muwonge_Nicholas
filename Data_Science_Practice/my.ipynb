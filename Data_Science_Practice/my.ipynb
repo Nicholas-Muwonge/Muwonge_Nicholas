{
 "cells": [
  {
   "cell_type": "code",
   "execution_count": 1,
   "id": "0b2535ed",
   "metadata": {},
   "outputs": [],
   "source": [
    "#creating and writing to a text file\n",
    "with open(\"file.txt\", \"w\") as file:\n",
    "    file.write(\"Hello Nicholas\")"
   ]
  },
  {
   "cell_type": "code",
   "execution_count": 2,
   "id": "6f29aec5",
   "metadata": {},
   "outputs": [],
   "source": [
    "import csv\n",
    "\n",
    "data  = [[\"Name\",  \"Age\", \"City\"],\n",
    "         [\"Nicholas\",  22, \"Kampala\"],\n",
    "         [\"Alice\",  25, \"JInja\"],\n",
    "         [\"Besigye\",  23, \"Mbarara\"]]\n",
    "with open(\"data.csv\", \"w\", newline=\"\") as f:\n",
    "    writer = csv.writer(f)\n",
    "    writer.writerows(data)"
   ]
  },
  {
   "cell_type": "code",
   "execution_count": 3,
   "id": "3c8af1c1",
   "metadata": {},
   "outputs": [],
   "source": [
    "import json\n",
    "data = {\n",
    "    \"Name\": \"Nicholas\",\n",
    "    \"Age\": 22,\n",
    "    \"City\": \"Kampala\"\n",
    "}\n",
    "with open(\"data.json\", \"w\") as f:\n",
    "    json.dump(data, f, indent=4)"
   ]
  }
 ],
 "metadata": {
  "kernelspec": {
   "display_name": ".venv",
   "language": "python",
   "name": "python3"
  },
  "language_info": {
   "codemirror_mode": {
    "name": "ipython",
    "version": 3
   },
   "file_extension": ".py",
   "mimetype": "text/x-python",
   "name": "python",
   "nbconvert_exporter": "python",
   "pygments_lexer": "ipython3",
   "version": "3.13.2"
  }
 },
 "nbformat": 4,
 "nbformat_minor": 5
}
